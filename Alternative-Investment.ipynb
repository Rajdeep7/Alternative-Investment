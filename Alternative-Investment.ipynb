{
 "cells": [
  {
   "cell_type": "code",
   "execution_count": 202,
   "metadata": {
    "collapsed": true
   },
   "outputs": [],
   "source": [
    "import pandas as pd\n",
    "import numpy as np\n",
    "import statsmodels.formula.api as smf\n",
    "import matplotlib.pyplot as plt\n",
    "%matplotlib inline"
   ]
  },
  {
   "cell_type": "code",
   "execution_count": 93,
   "metadata": {
    "collapsed": true
   },
   "outputs": [],
   "source": [
    "lse = pd.read_csv('LSE.csv')"
   ]
  },
  {
   "cell_type": "code",
   "execution_count": 94,
   "metadata": {},
   "outputs": [
    {
     "data": {
      "text/html": [
       "<div>\n",
       "<style>\n",
       "    .dataframe thead tr:only-child th {\n",
       "        text-align: right;\n",
       "    }\n",
       "\n",
       "    .dataframe thead th {\n",
       "        text-align: left;\n",
       "    }\n",
       "\n",
       "    .dataframe tbody tr th {\n",
       "        vertical-align: top;\n",
       "    }\n",
       "</style>\n",
       "<table border=\"1\" class=\"dataframe\">\n",
       "  <thead>\n",
       "    <tr style=\"text-align: right;\">\n",
       "      <th></th>\n",
       "      <th>Year</th>\n",
       "      <th>Beginning Price (in million GBP)</th>\n",
       "      <th>Ending Price (in million GBP)</th>\n",
       "      <th>Gain or Loss (in million GBP)</th>\n",
       "      <th>Percent Gain or Loss</th>\n",
       "    </tr>\n",
       "  </thead>\n",
       "  <tbody>\n",
       "    <tr>\n",
       "      <th>0</th>\n",
       "      <td>2002</td>\n",
       "      <td>5217.40</td>\n",
       "      <td>3940.40</td>\n",
       "      <td>-1277.00</td>\n",
       "      <td>-24.48%</td>\n",
       "    </tr>\n",
       "    <tr>\n",
       "      <th>1</th>\n",
       "      <td>2003</td>\n",
       "      <td>3940.40</td>\n",
       "      <td>4476.90</td>\n",
       "      <td>536.50</td>\n",
       "      <td>13.62%</td>\n",
       "    </tr>\n",
       "    <tr>\n",
       "      <th>2</th>\n",
       "      <td>2004</td>\n",
       "      <td>4476.90</td>\n",
       "      <td>4814.30</td>\n",
       "      <td>337.40</td>\n",
       "      <td>7.54%</td>\n",
       "    </tr>\n",
       "    <tr>\n",
       "      <th>3</th>\n",
       "      <td>2005</td>\n",
       "      <td>4814.30</td>\n",
       "      <td>5618.80</td>\n",
       "      <td>804.50</td>\n",
       "      <td>16.71%</td>\n",
       "    </tr>\n",
       "    <tr>\n",
       "      <th>4</th>\n",
       "      <td>2006</td>\n",
       "      <td>5618.80</td>\n",
       "      <td>6220.80</td>\n",
       "      <td>602.00</td>\n",
       "      <td>10.71%</td>\n",
       "    </tr>\n",
       "    <tr>\n",
       "      <th>5</th>\n",
       "      <td>2007</td>\n",
       "      <td>6220.80</td>\n",
       "      <td>6456.90</td>\n",
       "      <td>236.10</td>\n",
       "      <td>3.8%</td>\n",
       "    </tr>\n",
       "    <tr>\n",
       "      <th>6</th>\n",
       "      <td>2008</td>\n",
       "      <td>6456.90</td>\n",
       "      <td>4434.20</td>\n",
       "      <td>-2022.70</td>\n",
       "      <td>-31.33%</td>\n",
       "    </tr>\n",
       "    <tr>\n",
       "      <th>7</th>\n",
       "      <td>2009</td>\n",
       "      <td>4434.20</td>\n",
       "      <td>5412.90</td>\n",
       "      <td>978.70</td>\n",
       "      <td>22.07%</td>\n",
       "    </tr>\n",
       "    <tr>\n",
       "      <th>8</th>\n",
       "      <td>2010</td>\n",
       "      <td>5412.90</td>\n",
       "      <td>5899.90</td>\n",
       "      <td>487.00</td>\n",
       "      <td>9%</td>\n",
       "    </tr>\n",
       "    <tr>\n",
       "      <th>9</th>\n",
       "      <td>2011</td>\n",
       "      <td>5899.90</td>\n",
       "      <td>5572.30</td>\n",
       "      <td>-327.60</td>\n",
       "      <td>-5.55%</td>\n",
       "    </tr>\n",
       "    <tr>\n",
       "      <th>10</th>\n",
       "      <td>2012</td>\n",
       "      <td>5572.30</td>\n",
       "      <td>5897.80</td>\n",
       "      <td>325.50</td>\n",
       "      <td>5.84%</td>\n",
       "    </tr>\n",
       "    <tr>\n",
       "      <th>11</th>\n",
       "      <td>2013</td>\n",
       "      <td>5897.80</td>\n",
       "      <td>6749.10</td>\n",
       "      <td>851.30</td>\n",
       "      <td>14.43%</td>\n",
       "    </tr>\n",
       "    <tr>\n",
       "      <th>12</th>\n",
       "      <td>2014</td>\n",
       "      <td>6749.10</td>\n",
       "      <td>6566.09</td>\n",
       "      <td>-183.01</td>\n",
       "      <td>-2.71%</td>\n",
       "    </tr>\n",
       "    <tr>\n",
       "      <th>13</th>\n",
       "      <td>2015</td>\n",
       "      <td>6566.09</td>\n",
       "      <td>6242.32</td>\n",
       "      <td>-323.77</td>\n",
       "      <td>-4.93%</td>\n",
       "    </tr>\n",
       "  </tbody>\n",
       "</table>\n",
       "</div>"
      ],
      "text/plain": [
       "    Year  Beginning Price (in million GBP)  Ending Price (in million GBP)  \\\n",
       "0   2002                           5217.40                        3940.40   \n",
       "1   2003                           3940.40                        4476.90   \n",
       "2   2004                           4476.90                        4814.30   \n",
       "3   2005                           4814.30                        5618.80   \n",
       "4   2006                           5618.80                        6220.80   \n",
       "5   2007                           6220.80                        6456.90   \n",
       "6   2008                           6456.90                        4434.20   \n",
       "7   2009                           4434.20                        5412.90   \n",
       "8   2010                           5412.90                        5899.90   \n",
       "9   2011                           5899.90                        5572.30   \n",
       "10  2012                           5572.30                        5897.80   \n",
       "11  2013                           5897.80                        6749.10   \n",
       "12  2014                           6749.10                        6566.09   \n",
       "13  2015                           6566.09                        6242.32   \n",
       "\n",
       "    Gain or Loss (in million GBP) Percent Gain or Loss  \n",
       "0                        -1277.00              -24.48%  \n",
       "1                          536.50               13.62%  \n",
       "2                          337.40                7.54%  \n",
       "3                          804.50               16.71%  \n",
       "4                          602.00               10.71%  \n",
       "5                          236.10                 3.8%  \n",
       "6                        -2022.70              -31.33%  \n",
       "7                          978.70               22.07%  \n",
       "8                          487.00                   9%  \n",
       "9                         -327.60               -5.55%  \n",
       "10                         325.50                5.84%  \n",
       "11                         851.30               14.43%  \n",
       "12                        -183.01               -2.71%  \n",
       "13                        -323.77               -4.93%  "
      ]
     },
     "execution_count": 94,
     "metadata": {},
     "output_type": "execute_result"
    }
   ],
   "source": [
    "lse"
   ]
  },
  {
   "cell_type": "code",
   "execution_count": 216,
   "metadata": {},
   "outputs": [
    {
     "data": {
      "text/plain": [
       "<matplotlib.axes._subplots.AxesSubplot at 0x123719470>"
      ]
     },
     "execution_count": 216,
     "metadata": {},
     "output_type": "execute_result"
    },
    {
     "data": {
      "image/png": "[encoded data removed]",
      "text/plain": [
       "<matplotlib.figure.Figure at 0x1237096a0>"
      ]
     },
     "metadata": {},
     "output_type": "display_data"
    }
   ],
   "source": [
    "lse.plot(x='Year',y='Ending Price (in million GBP)')"
   ]
  },
  {
   "cell_type": "code",
   "execution_count": 206,
   "metadata": {},
   "outputs": [
    {
     "data": {
      "text/plain": [
       "<matplotlib.axes._subplots.AxesSubplot at 0x1234cddd8>"
      ]
     },
     "execution_count": 206,
     "metadata": {},
     "output_type": "execute_result"
    },
    {
     "data": {
      "image/png": "[encoded data removed]",
      "text/plain": [
       "<matplotlib.figure.Figure at 0x1230a79e8>"
      ]
     },
     "metadata": {},
     "output_type": "display_data"
    }
   ],
   "source": [
    "stamp.plot(kind='scatter',x='Year',y='Price (in million GBP)')"
   ]
  },
  {
   "cell_type": "code",
   "execution_count": 98,
   "metadata": {},
   "outputs": [],
   "source": [
    "wine = pd.read_csv('Wine.csv')"
   ]
  },
  {
   "cell_type": "code",
   "execution_count": 99,
   "metadata": {},
   "outputs": [
    {
     "data": {
      "text/html": [
       "<div>\n",
       "<style>\n",
       "    .dataframe thead tr:only-child th {\n",
       "        text-align: right;\n",
       "    }\n",
       "\n",
       "    .dataframe thead th {\n",
       "        text-align: left;\n",
       "    }\n",
       "\n",
       "    .dataframe tbody tr th {\n",
       "        vertical-align: top;\n",
       "    }\n",
       "</style>\n",
       "<table border=\"1\" class=\"dataframe\">\n",
       "  <thead>\n",
       "    <tr style=\"text-align: right;\">\n",
       "      <th></th>\n",
       "      <th>Year</th>\n",
       "      <th>Price (in million GBP)</th>\n",
       "    </tr>\n",
       "  </thead>\n",
       "  <tbody>\n",
       "    <tr>\n",
       "      <th>0</th>\n",
       "      <td>2002</td>\n",
       "      <td>98.910000</td>\n",
       "    </tr>\n",
       "    <tr>\n",
       "      <th>1</th>\n",
       "      <td>2003</td>\n",
       "      <td>100.000000</td>\n",
       "    </tr>\n",
       "    <tr>\n",
       "      <th>2</th>\n",
       "      <td>2004</td>\n",
       "      <td>97.870000</td>\n",
       "    </tr>\n",
       "    <tr>\n",
       "      <th>3</th>\n",
       "      <td>2005</td>\n",
       "      <td>115.090000</td>\n",
       "    </tr>\n",
       "    <tr>\n",
       "      <th>4</th>\n",
       "      <td>2006</td>\n",
       "      <td>172.270000</td>\n",
       "    </tr>\n",
       "    <tr>\n",
       "      <th>5</th>\n",
       "      <td>2007</td>\n",
       "      <td>232.680000</td>\n",
       "    </tr>\n",
       "    <tr>\n",
       "      <th>6</th>\n",
       "      <td>2008</td>\n",
       "      <td>202.936667</td>\n",
       "    </tr>\n",
       "    <tr>\n",
       "      <th>7</th>\n",
       "      <td>2009</td>\n",
       "      <td>202.936667</td>\n",
       "    </tr>\n",
       "    <tr>\n",
       "      <th>8</th>\n",
       "      <td>2010</td>\n",
       "      <td>329.160000</td>\n",
       "    </tr>\n",
       "    <tr>\n",
       "      <th>9</th>\n",
       "      <td>2011</td>\n",
       "      <td>297.960000</td>\n",
       "    </tr>\n",
       "    <tr>\n",
       "      <th>10</th>\n",
       "      <td>2012</td>\n",
       "      <td>257.550000</td>\n",
       "    </tr>\n",
       "    <tr>\n",
       "      <th>11</th>\n",
       "      <td>2013</td>\n",
       "      <td>258.460000</td>\n",
       "    </tr>\n",
       "    <tr>\n",
       "      <th>12</th>\n",
       "      <td>2014</td>\n",
       "      <td>238.580000</td>\n",
       "    </tr>\n",
       "    <tr>\n",
       "      <th>13</th>\n",
       "      <td>2015</td>\n",
       "      <td>236.710000</td>\n",
       "    </tr>\n",
       "  </tbody>\n",
       "</table>\n",
       "</div>"
      ],
      "text/plain": [
       "    Year  Price (in million GBP)\n",
       "0   2002               98.910000\n",
       "1   2003              100.000000\n",
       "2   2004               97.870000\n",
       "3   2005              115.090000\n",
       "4   2006              172.270000\n",
       "5   2007              232.680000\n",
       "6   2008              202.936667\n",
       "7   2009              202.936667\n",
       "8   2010              329.160000\n",
       "9   2011              297.960000\n",
       "10  2012              257.550000\n",
       "11  2013              258.460000\n",
       "12  2014              238.580000\n",
       "13  2015              236.710000"
      ]
     },
     "execution_count": 99,
     "metadata": {},
     "output_type": "execute_result"
    }
   ],
   "source": [
    "wine = wine.fillna(wine['Price (in million GBP)'].mean())\n",
    "wine"
   ]
  },
  {
   "cell_type": "code",
   "execution_count": 215,
   "metadata": {},
   "outputs": [
    {
     "data": {
      "text/plain": [
       "<matplotlib.axes._subplots.AxesSubplot at 0x12385cd68>"
      ]
     },
     "execution_count": 215,
     "metadata": {},
     "output_type": "execute_result"
    },
    {
     "data": {
      "image/png": "[encoded data removed]",
      "text/plain": [
       "<matplotlib.figure.Figure at 0x12388c9e8>"
      ]
     },
     "metadata": {},
     "output_type": "display_data"
    }
   ],
   "source": [
    "wine.plot(x='Year')"
   ]
  },
  {
   "cell_type": "code",
   "execution_count": 103,
   "metadata": {
    "scrolled": false
   },
   "outputs": [
    {
     "data": {
      "text/plain": [
       "<matplotlib.axes._subplots.AxesSubplot at 0x11e3c87b8>"
      ]
     },
     "execution_count": 103,
     "metadata": {},
     "output_type": "execute_result"
    },
    {
     "data": {
      "image/png": "[encoded data removed]",
      "text/plain": [
       "<matplotlib.figure.Figure at 0x11e417b38>"
      ]
     },
     "metadata": {},
     "output_type": "display_data"
    }
   ],
   "source": [
    "wine.plot(kind='scatter',x='Year',y='Price (in million GBP)')"
   ]
  },
  {
   "cell_type": "code",
   "execution_count": 106,
   "metadata": {
    "scrolled": false
   },
   "outputs": [
    {
     "data": {
      "text/html": [
       "<div>\n",
       "<style>\n",
       "    .dataframe thead tr:only-child th {\n",
       "        text-align: right;\n",
       "    }\n",
       "\n",
       "    .dataframe thead th {\n",
       "        text-align: left;\n",
       "    }\n",
       "\n",
       "    .dataframe tbody tr th {\n",
       "        vertical-align: top;\n",
       "    }\n",
       "</style>\n",
       "<table border=\"1\" class=\"dataframe\">\n",
       "  <thead>\n",
       "    <tr style=\"text-align: right;\">\n",
       "      <th></th>\n",
       "      <th>Year</th>\n",
       "      <th>Price (in million GBP)</th>\n",
       "    </tr>\n",
       "  </thead>\n",
       "  <tbody>\n",
       "    <tr>\n",
       "      <th>0</th>\n",
       "      <td>2002</td>\n",
       "      <td>8.7045</td>\n",
       "    </tr>\n",
       "    <tr>\n",
       "      <th>1</th>\n",
       "      <td>2003</td>\n",
       "      <td>9.8855</td>\n",
       "    </tr>\n",
       "    <tr>\n",
       "      <th>2</th>\n",
       "      <td>2004</td>\n",
       "      <td>11.7025</td>\n",
       "    </tr>\n",
       "    <tr>\n",
       "      <th>3</th>\n",
       "      <td>2005</td>\n",
       "      <td>12.8945</td>\n",
       "    </tr>\n",
       "    <tr>\n",
       "      <th>4</th>\n",
       "      <td>2006</td>\n",
       "      <td>14.5255</td>\n",
       "    </tr>\n",
       "    <tr>\n",
       "      <th>5</th>\n",
       "      <td>2007</td>\n",
       "      <td>16.5125</td>\n",
       "    </tr>\n",
       "    <tr>\n",
       "      <th>6</th>\n",
       "      <td>2008</td>\n",
       "      <td>22.6200</td>\n",
       "    </tr>\n",
       "    <tr>\n",
       "      <th>7</th>\n",
       "      <td>2009</td>\n",
       "      <td>24.1950</td>\n",
       "    </tr>\n",
       "    <tr>\n",
       "      <th>8</th>\n",
       "      <td>2010</td>\n",
       "      <td>25.6250</td>\n",
       "    </tr>\n",
       "    <tr>\n",
       "      <th>9</th>\n",
       "      <td>2011</td>\n",
       "      <td>26.9350</td>\n",
       "    </tr>\n",
       "    <tr>\n",
       "      <th>10</th>\n",
       "      <td>2012</td>\n",
       "      <td>29.9700</td>\n",
       "    </tr>\n",
       "    <tr>\n",
       "      <th>11</th>\n",
       "      <td>2013</td>\n",
       "      <td>30.8400</td>\n",
       "    </tr>\n",
       "    <tr>\n",
       "      <th>12</th>\n",
       "      <td>2014</td>\n",
       "      <td>31.2175</td>\n",
       "    </tr>\n",
       "    <tr>\n",
       "      <th>13</th>\n",
       "      <td>2015</td>\n",
       "      <td>32.1300</td>\n",
       "    </tr>\n",
       "  </tbody>\n",
       "</table>\n",
       "</div>"
      ],
      "text/plain": [
       "    Year  Price (in million GBP)\n",
       "0   2002                  8.7045\n",
       "1   2003                  9.8855\n",
       "2   2004                 11.7025\n",
       "3   2005                 12.8945\n",
       "4   2006                 14.5255\n",
       "5   2007                 16.5125\n",
       "6   2008                 22.6200\n",
       "7   2009                 24.1950\n",
       "8   2010                 25.6250\n",
       "9   2011                 26.9350\n",
       "10  2012                 29.9700\n",
       "11  2013                 30.8400\n",
       "12  2014                 31.2175\n",
       "13  2015                 32.1300"
      ]
     },
     "execution_count": 106,
     "metadata": {},
     "output_type": "execute_result"
    }
   ],
   "source": [
    "stamp = pd.read_csv('Stamp.csv')\n",
    "stamp"
   ]
  },
  {
   "cell_type": "code",
   "execution_count": 107,
   "metadata": {},
   "outputs": [
    {
     "data": {
      "text/plain": [
       "<matplotlib.axes._subplots.AxesSubplot at 0x11e7b6550>"
      ]
     },
     "execution_count": 107,
     "metadata": {},
     "output_type": "execute_result"
    },
    {
     "data": {
      "image/png": "[encoded data removed]",
      "text/plain": [
       "<matplotlib.figure.Figure at 0x11e8876d8>"
      ]
     },
     "metadata": {},
     "output_type": "display_data"
    }
   ],
   "source": [
    "stamp.plot(x='Year')"
   ]
  },
  {
   "cell_type": "code",
   "execution_count": 108,
   "metadata": {
    "scrolled": false
   },
   "outputs": [
    {
     "data": {
      "text/plain": [
       "<matplotlib.axes._subplots.AxesSubplot at 0x11e892da0>"
      ]
     },
     "execution_count": 108,
     "metadata": {},
     "output_type": "execute_result"
    },
    {
     "data": {
      "image/png": "[encoded data removed]",
      "text/plain": [
       "<matplotlib.figure.Figure at 0x11e926438>"
      ]
     },
     "metadata": {},
     "output_type": "display_data"
    }
   ],
   "source": [
    "stamp.plot(kind='scatter',x='Year',y='Price (in million GBP)')"
   ]
  },
  {
   "cell_type": "code",
   "execution_count": 217,
   "metadata": {},
   "outputs": [
    {
     "data": {
      "image/png": "[encoded data removed]",
      "text/plain": [
       "<matplotlib.figure.Figure at 0x1236fdc18>"
      ]
     },
     "metadata": {},
     "output_type": "display_data"
    }
   ],
   "source": [
    "fig_size[0] = 15\n",
    "fig_size[1] = 12\n",
    "def two_scales(ax1, year, data1, data2, c1, c2):\n",
    "    ax2 = ax1.twinx()\n",
    "\n",
    "    ax1.plot(year, data1, color=c1)\n",
    "    ax1.set_xlabel('Year')\n",
    "    ax1.set_ylabel('Stamp Price (in million GBP)')\n",
    "\n",
    "    ax2.plot(year, data2, color=c2)\n",
    "    ax2.set_ylabel('Wine Price (in million GBP)')\n",
    "    return ax1, ax2\n",
    "\n",
    "year = list(stamp['Year'])\n",
    "s1 = stamp['Price (in million GBP)']\n",
    "s2 = wine['Price (in million GBP)']\n",
    "\n",
    "\n",
    "# Create axes\n",
    "fig, ax = plt.subplots()\n",
    "ax1, ax2 = two_scales(ax, y, s1, s2, 'r', 'b')\n",
    "\n",
    "\n",
    "# Change color of each axis\n",
    "def color_y_axis(ax, color):\n",
    "    \"\"\"Color your axes.\"\"\"\n",
    "    for t in ax.get_yticklabels():\n",
    "        t.set_color(color)\n",
    "    return None\n",
    "fig_size[0] = 15\n",
    "fig_size[1] = 12\n",
    "color_y_axis(ax1, 'r')\n",
    "color_y_axis(ax2, 'b')\n",
    "plt.title('Stamp VS Wine')\n",
    "plt.show()"
   ]
  },
  {
   "cell_type": "code",
   "execution_count": 197,
   "metadata": {},
   "outputs": [
    {
     "data": {
      "image/png": "[encoded data removed]",
      "text/plain": [
       "<matplotlib.figure.Figure at 0x12390edd8>"
      ]
     },
     "metadata": {},
     "output_type": "display_data"
    }
   ],
   "source": [
    "fig_size[0] = 15\n",
    "fig_size[1] = 12\n",
    "year = list(stamp['Year'])\n",
    "plt.plot(year, lse['Ending Price (in million GBP)'], 'g-', label='LSE')\n",
    "plt.plot(year, wine['Price (in million GBP)'], 'b-', label='Wine')\n",
    "plt.plot(year, stamp['Price (in million GBP)'], 'r-', label='Stamp')\n",
    "plt.title('Comparison')\n",
    "plt.ylabel('Price')\n",
    "plt.xlabel('Year')\n",
    "plt.legend()\n",
    "plt.show()"
   ]
  },
  {
   "cell_type": "markdown",
   "metadata": {},
   "source": [
    "# Linear Regression"
   ]
  },
  {
   "cell_type": "markdown",
   "metadata": {},
   "source": [
    "Simple linear regression is an approach for predicting a quantitative response using a single feature (or \"predictor\" or \"input variable\"). It takes the following form:\n",
    "\n",
    "$y = \\beta_0 + \\beta_1x$\n",
    "\n",
    "What does each term represent?\n",
    "\n",
    "- $y$ is the response\n",
    "- $x$ is the feature\n",
    "- $\\beta_0$ is the intercept\n",
    "- $\\beta_1$ is the coefficient for x\n",
    "\n",
    "Together, $\\beta_0$ and $\\beta_1$ are called the model coefficients. To create your model, you must \"learn\" the values of these coefficients. And once we've learned these coefficients, we can use the model to predict Sales!"
   ]
  },
  {
   "cell_type": "code",
   "execution_count": 113,
   "metadata": {
    "collapsed": true
   },
   "outputs": [],
   "source": [
    "from sklearn import linear_model as lm"
   ]
  },
  {
   "cell_type": "markdown",
   "metadata": {},
   "source": [
    "## Stamp"
   ]
  },
  {
   "cell_type": "code",
   "execution_count": 125,
   "metadata": {},
   "outputs": [],
   "source": [
    "X = list(stamp['Year'])\n",
    "y = list(stamp['Price (in million GBP)'])\n",
    "year = np.reshape(X,(len(X),1))\n",
    "price = np.reshape(y,(len(y),1))"
   ]
  },
  {
   "cell_type": "code",
   "execution_count": 126,
   "metadata": {},
   "outputs": [
    {
     "name": "stdout",
     "output_type": "stream",
     "text": [
      "[-4048.30354286] [[ 2.02617473]]\n"
     ]
    }
   ],
   "source": [
    "model = lm.LinearRegression()\n",
    "results = model.fit(year, price)\n",
    "print(model.intercept_, model.coef_)"
   ]
  },
  {
   "cell_type": "markdown",
   "metadata": {},
   "source": [
    "The relationship equation between year and price is : \n",
    " price = 2.02617473 * year + (-4048.30354286)"
   ]
  },
  {
   "cell_type": "code",
   "execution_count": 129,
   "metadata": {
    "scrolled": false
   },
   "outputs": [
    {
     "data": {
      "text/plain": [
       "[<matplotlib.lines.Line2D at 0x11d80e208>]"
      ]
     },
     "execution_count": 129,
     "metadata": {},
     "output_type": "execute_result"
    },
    {
     "data": {
      "image/png": "[encoded data removed]",
      "text/plain": [
       "<matplotlib.figure.Figure at 0x11e8db4e0>"
      ]
     },
     "metadata": {},
     "output_type": "display_data"
    }
   ],
   "source": [
    "stamp.plot(kind='scatter',x='Year',y='Price (in million GBP)',color='green')\n",
    "plt.plot(year,model.predict(year),color='blue',linewidth=3)"
   ]
  },
  {
   "cell_type": "code",
   "execution_count": 164,
   "metadata": {},
   "outputs": [],
   "source": [
    "stamp_mean = stamp['Price (in million GBP)'].mean()\n",
    "stamp = stamp.sort_values(['Price (in million GBP)'])\n",
    "stamp_median = stamp['Price (in million GBP)'].median()\n",
    "stamp_stdev = stamp['Price (in million GBP)'].std()\n",
    "stamp_var = stamp['Price (in million GBP)'].var()\n",
    "stamp_cov = stamp['Price (in million GBP)'].cov(stamp['Year'])\n",
    "stamp_corr = stamp['Price (in million GBP)'].corr(stamp['Year'])"
   ]
  },
  {
   "cell_type": "markdown",
   "metadata": {},
   "source": [
    "Mean = 21.268392857142857\n",
    "\n",
    "Median = 23.4075\n",
    "\n",
    "Variance = 74.07002835302198\n",
    "\n",
    "Standard Deviation = 8.606394619875502\n",
    "\n",
    "Covariance = 35.45805769230769\n",
    "\n",
    "Correlation = 0.98486037085500699"
   ]
  },
  {
   "cell_type": "markdown",
   "metadata": {},
   "source": [
    "## Wine "
   ]
  },
  {
   "cell_type": "code",
   "execution_count": 145,
   "metadata": {
    "collapsed": true
   },
   "outputs": [],
   "source": [
    "X = list(wine['Year'])\n",
    "y = list(wine['Price (in million GBP)'])\n",
    "year = np.reshape(X,(len(X),1))\n",
    "price = np.reshape(y,(len(y),1))"
   ]
  },
  {
   "cell_type": "code",
   "execution_count": 146,
   "metadata": {},
   "outputs": [
    {
     "name": "stdout",
     "output_type": "stream",
     "text": [
      "[-29267.71761905] [[ 14.67296703]]\n"
     ]
    }
   ],
   "source": [
    "model = lm.LinearRegression()\n",
    "results = model.fit(year, price)\n",
    "print(model.intercept_, model.coef_)"
   ]
  },
  {
   "cell_type": "markdown",
   "metadata": {},
   "source": [
    "The relationship equation between year and price is :\n",
    " price = (14.67296703) * year + (-29267.71761905)"
   ]
  },
  {
   "cell_type": "code",
   "execution_count": 149,
   "metadata": {},
   "outputs": [
    {
     "data": {
      "text/plain": [
       "[<matplotlib.lines.Line2D at 0x122673cf8>]"
      ]
     },
     "execution_count": 149,
     "metadata": {},
     "output_type": "execute_result"
    },
    {
     "data": {
      "image/png": "[encoded data removed]",
      "text/plain": [
       "<matplotlib.figure.Figure at 0x122aed668>"
      ]
     },
     "metadata": {},
     "output_type": "display_data"
    }
   ],
   "source": [
    "wine.plot(kind='scatter',x='Year',y='Price (in million GBP)',color='green')\n",
    "plt.plot(year,model.predict(year),color='blue',linewidth=3)"
   ]
  },
  {
   "cell_type": "code",
   "execution_count": 167,
   "metadata": {},
   "outputs": [],
   "source": [
    "wine_mean = wine['Price (in million GBP)'].mean()\n",
    "wine = wine.sort_values(['Price (in million GBP)'])\n",
    "wine_median = wine['Price (in million GBP)'].median()\n",
    "wine_stdev = wine['Price (in million GBP)'].std()\n",
    "wine_var = wine['Price (in million GBP)'].var()\n",
    "wine_cov = wine['Price (in million GBP)'].cov(wine['Year'])\n",
    "wine_corr = wine['Price (in million GBP)'].corr(wine['Year'])"
   ]
  },
  {
   "cell_type": "markdown",
   "metadata": {},
   "source": [
    "Mean = 202.93666666666667\n",
    "\n",
    "Median = 217.80833333333334\n",
    "\n",
    "Variance = 5802.843235897437\n",
    "\n",
    "Standard Deviation = 76.17639552970091\n",
    "\n",
    "Covariance = 256.77692307692314\n",
    "\n",
    "Correlation = 0.80578011743475941"
   ]
  },
  {
   "cell_type": "markdown",
   "metadata": {},
   "source": [
    "# London Stock Exchange (LSE)"
   ]
  },
  {
   "cell_type": "code",
   "execution_count": 168,
   "metadata": {
    "collapsed": true
   },
   "outputs": [],
   "source": [
    "X = list(lse['Year'])\n",
    "y = list(lse['Ending Price (in million GBP)'])\n",
    "year = np.reshape(X,(len(X),1))\n",
    "price = np.reshape(y,(len(y),1))"
   ]
  },
  {
   "cell_type": "code",
   "execution_count": 169,
   "metadata": {},
   "outputs": [
    {
     "name": "stdout",
     "output_type": "stream",
     "text": [
      "[-296067.97857143] [[ 150.1921978]]\n"
     ]
    }
   ],
   "source": [
    "model = lm.LinearRegression()\n",
    "results = model.fit(year, price)\n",
    "print(model.intercept_, model.coef_)"
   ]
  },
  {
   "cell_type": "markdown",
   "metadata": {},
   "source": [
    "The relationship equation between year and price is :\n",
    "    price = (150.1921978) * year + (-296067.97857143)"
   ]
  },
  {
   "cell_type": "code",
   "execution_count": 171,
   "metadata": {},
   "outputs": [
    {
     "data": {
      "text/plain": [
       "[<matplotlib.lines.Line2D at 0x122c1c828>]"
      ]
     },
     "execution_count": 171,
     "metadata": {},
     "output_type": "execute_result"
    },
    {
     "data": {
      "image/png": "[encoded data removed]",
      "text/plain": [
       "<matplotlib.figure.Figure at 0x122ca42b0>"
      ]
     },
     "metadata": {},
     "output_type": "display_data"
    }
   ],
   "source": [
    "lse.plot(kind='scatter',x='Year',y='Ending Price (in million GBP)',color='green')\n",
    "plt.plot(year,model.predict(year),color='blue',linewidth=3)"
   ]
  },
  {
   "cell_type": "code",
   "execution_count": 181,
   "metadata": {},
   "outputs": [],
   "source": [
    "lse_mean = lse['Ending Price (in million GBP)'].mean()\n",
    "lse = lse.sort_values(['Ending Price (in million GBP)'])\n",
    "lse_median = lse['Ending Price (in million GBP)'].median()\n",
    "lse_stdev = lse['Ending Price (in million GBP)'].std()\n",
    "lse_var = lse['Ending Price (in million GBP)'].var()\n",
    "lse_cov = lse['Ending Price (in million GBP)'].cov(lse['Year'])\n",
    "lse_corr = lse['Ending Price (in million GBP)'].corr(lse['Year'])"
   ]
  },
  {
   "cell_type": "markdown",
   "metadata": {},
   "source": [
    "Mean = 5593.050714285715\n",
    "\n",
    "Median = 5758.3\n",
    "\n",
    "Variance = 768624.7480379121\n",
    "\n",
    "Standard Deviation = 876.7124659989227\n",
    "\n",
    "Covariance = 2628.3634615384622\n",
    "\n",
    "Correlation = 0.71665348145370367"
   ]
  },
  {
   "cell_type": "code",
   "execution_count": null,
   "metadata": {
    "collapsed": true
   },
   "outputs": [],
   "source": []
  }
 ],
 "metadata": {
  "kernelspec": {
   "display_name": "Python 3",
   "language": "python",
   "name": "python3"
  },
  "language_info": {
   "codemirror_mode": {
    "name": "ipython",
    "version": 3
   },
   "file_extension": ".py",
   "mimetype": "text/x-python",
   "name": "python",
   "nbconvert_exporter": "python",
   "pygments_lexer": "ipython3",
   "version": "3.6.1"
  }
 },
 "nbformat": 4,
 "nbformat_minor": 2
}
